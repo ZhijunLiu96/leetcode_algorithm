{
  "nbformat": 4,
  "nbformat_minor": 0,
  "metadata": {
    "colab": {
      "name": "is_in_convexhull.ipynb",
      "provenance": []
    },
    "kernelspec": {
      "name": "python3",
      "display_name": "Python 3"
    }
  },
  "cells": [
    {
      "cell_type": "code",
      "metadata": {
        "id": "pHGtT7oUQuu5",
        "colab_type": "code",
        "colab": {}
      },
      "source": [
        "import matplotlib.pyplot as plt\n",
        "import numpy as np"
      ],
      "execution_count": 2,
      "outputs": []
    },
    {
      "cell_type": "code",
      "metadata": {
        "id": "TKqChOArQe4s",
        "colab_type": "code",
        "colab": {}
      },
      "source": [
        "def is_in_convexhull(points,newpoint):\n",
        "    points.insert(0,points[-1])\n",
        "    points.append(points[1])\n",
        "    for i in range(1,len(points)-1):\n",
        "        vector1 = np.array(points[i-1]) - np.array(points[i])\n",
        "        vector2 = np.array(points[i+1]) - np.array(points[i])\n",
        "        vector3 = np.array(newpoint) - np.array(points[i])\n",
        "        angle1 = np.angle(complex(vector1[0],vector1[1]),deg=True) if np.angle(complex(vector1[0],vector1[1]),deg=True)>=0 else 360+np.angle(complex(vector1[0],vector1[1]),deg=True)\n",
        "        angle2 = np.angle(complex(vector2[0],vector2[1]),deg=True) if np.angle(complex(vector2[0],vector2[1]),deg=True)>=0 else 360+np.angle(complex(vector2[0],vector2[1]),deg=True)\n",
        "        angle3 = np.angle(complex(vector3[0],vector3[1]),deg=True) if np.angle(complex(vector3[0],vector3[1]),deg=True)>=0 else 360+np.angle(complex(vector3[0],vector3[1]),deg=True)\n",
        "        mini = min(angle1, angle2)\n",
        "        maxi = max(angle1, angle2)\n",
        "        if maxi-mini > 180:\n",
        "             if mini <= angle3 <= maxi:\n",
        "                 return False\n",
        "        else:\n",
        "            if angle3 >= maxi or angle3 <= mini:\n",
        "                return False\n",
        "    return True"
      ],
      "execution_count": 26,
      "outputs": []
    },
    {
      "cell_type": "code",
      "metadata": {
        "id": "FVgOSuYoQlia",
        "colab_type": "code",
        "colab": {}
      },
      "source": [
        "def visualization(points, newpoint):\n",
        "    x1 = []\n",
        "    y1 = []\n",
        "    for i in range(len(points)):\n",
        "        x1.append(points[i][0])\n",
        "        y1.append(points[i][1])\n",
        "    x1.append(points[0][0])\n",
        "    y1.append(points[0][1])\n",
        "    plt.plot(x1, y1,linestyle='-', c='b')\n",
        "    plt.scatter([newpoint[0]], [newpoint[1]], c='r')\n",
        "    plt.show()"
      ],
      "execution_count": 27,
      "outputs": []
    },
    {
      "cell_type": "code",
      "metadata": {
        "id": "rx0ZpcwyQlZw",
        "colab_type": "code",
        "colab": {
          "base_uri": "https://localhost:8080/",
          "height": 282
        },
        "outputId": "8465e64a-441b-4ac0-f8e2-c4365b377cec"
      },
      "source": [
        "points = [[-1,-2],[-3,-1],[-3,1]]\n",
        "newpoint = [-2,-1]\n",
        "print(is_in_convexhull(points,newpoint))\n",
        "visualization(points, newpoint)"
      ],
      "execution_count": 35,
      "outputs": [
        {
          "output_type": "stream",
          "text": [
            "True\n"
          ],
          "name": "stdout"
        },
        {
          "output_type": "display_data",
          "data": {
            "image/png": "[encoded data removed]",
            "text/plain": [
              "<Figure size 432x288 with 1 Axes>"
            ]
          },
          "metadata": {
            "tags": [],
            "needs_background": "light"
          }
        }
      ]
    },
    {
      "cell_type": "code",
      "metadata": {
        "id": "xpD7zpylUGo1",
        "colab_type": "code",
        "colab": {
          "base_uri": "https://localhost:8080/",
          "height": 282
        },
        "outputId": "f21713bb-b4cc-488f-b35b-aa0baa72fd6b"
      },
      "source": [
        "points = [[1,3],[3,2],[3,0],[2,-2],[-1,-2],[-3,-1],[-3,1],[-1,3]]\n",
        "newpoint = [1,0]\n",
        "print(is_in_convexhull(points,newpoint))\n",
        "visualization(points, newpoint)"
      ],
      "execution_count": 29,
      "outputs": [
        {
          "output_type": "stream",
          "text": [
            "True\n"
          ],
          "name": "stdout"
        },
        {
          "output_type": "display_data",
          "data": {
            "image/png": "[encoded data removed]",
            "text/plain": [
              "<Figure size 432x288 with 1 Axes>"
            ]
          },
          "metadata": {
            "tags": [],
            "needs_background": "light"
          }
        }
      ]
    },
    {
      "cell_type": "code",
      "metadata": {
        "id": "7BGxh7kmQlcm",
        "colab_type": "code",
        "colab": {
          "base_uri": "https://localhost:8080/",
          "height": 282
        },
        "outputId": "8700d78a-3894-491b-c2ba-cf46e826d44a"
      },
      "source": [
        "points = [[1,3],[3,2],[3,0],[2,-2],[-1,-2],[-3,-1],[-3,1],[-1,3]]\n",
        "newpoint = [2,-2]\n",
        "print(is_in_convexhull(points,newpoint))\n",
        "visualization(points, newpoint)"
      ],
      "execution_count": 30,
      "outputs": [
        {
          "output_type": "stream",
          "text": [
            "False\n"
          ],
          "name": "stdout"
        },
        {
          "output_type": "display_data",
          "data": {
            "image/png": "[encoded data removed]",
            "text/plain": [
              "<Figure size 432x288 with 1 Axes>"
            ]
          },
          "metadata": {
            "tags": [],
            "needs_background": "light"
          }
        }
      ]
    },
    {
      "cell_type": "code",
      "metadata": {
        "id": "w0uB7Vc0QlgJ",
        "colab_type": "code",
        "colab": {
          "base_uri": "https://localhost:8080/",
          "height": 282
        },
        "outputId": "be2577a8-4d6d-4a39-8928-a0ab7d5bd74e"
      },
      "source": [
        "points = [[1,3],[3,2],[3,0],[2,-2],[-1,-2],[-3,-1],[-3,1],[-1,3]]\n",
        "newpoint = [4,3]\n",
        "print(is_in_convexhull(points,newpoint))\n",
        "visualization(points, newpoint)"
      ],
      "execution_count": 31,
      "outputs": [
        {
          "output_type": "stream",
          "text": [
            "False\n"
          ],
          "name": "stdout"
        },
        {
          "output_type": "display_data",
          "data": {
            "image/png": "[encoded data removed]",
            "text/plain": [
              "<Figure size 432x288 with 1 Axes>"
            ]
          },
          "metadata": {
            "tags": [],
            "needs_background": "light"
          }
        }
      ]
    }
  ]
}